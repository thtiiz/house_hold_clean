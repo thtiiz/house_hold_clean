{
 "cells": [
  {
   "cell_type": "code",
   "execution_count": 1,
   "metadata": {
    "tags": []
   },
   "outputs": [],
   "source": [
    "import pandas as pd"
   ]
  },
  {
   "cell_type": "code",
   "execution_count": 2,
   "metadata": {},
   "outputs": [
    {
     "name": "stderr",
     "output_type": "stream",
     "text": [
      "/home/thtiiz/.local/lib/python3.8/site-packages/IPython/core/interactiveshell.py:3062: DtypeWarning: Columns (2,3,4,5,6,7) have mixed types.Specify dtype option on import or set low_memory=False.\n",
      "  has_raised = await self.run_ast_nodes(code_ast.body, cell_name,\n"
     ]
    }
   ],
   "source": [
    "df = pd.read_csv('./household_power_consumption.txt', sep=';')"
   ]
  },
  {
   "cell_type": "code",
   "execution_count": 3,
   "metadata": {},
   "outputs": [
    {
     "data": {
      "text/plain": [
       "Date                      object\n",
       "Time                      object\n",
       "Global_active_power       object\n",
       "Global_reactive_power     object\n",
       "Voltage                   object\n",
       "Global_intensity          object\n",
       "Sub_metering_1            object\n",
       "Sub_metering_2            object\n",
       "Sub_metering_3           float64\n",
       "dtype: object"
      ]
     },
     "execution_count": 3,
     "metadata": {},
     "output_type": "execute_result"
    }
   ],
   "source": [
    "df.dtypes"
   ]
  },
  {
   "cell_type": "code",
   "execution_count": 4,
   "metadata": {},
   "outputs": [
    {
     "data": {
      "text/html": [
       "<div>\n",
       "<style scoped>\n",
       "    .dataframe tbody tr th:only-of-type {\n",
       "        vertical-align: middle;\n",
       "    }\n",
       "\n",
       "    .dataframe tbody tr th {\n",
       "        vertical-align: top;\n",
       "    }\n",
       "\n",
       "    .dataframe thead th {\n",
       "        text-align: right;\n",
       "    }\n",
       "</style>\n",
       "<table border=\"1\" class=\"dataframe\">\n",
       "  <thead>\n",
       "    <tr style=\"text-align: right;\">\n",
       "      <th></th>\n",
       "      <th>Date</th>\n",
       "      <th>Time</th>\n",
       "      <th>Global_active_power</th>\n",
       "      <th>Global_reactive_power</th>\n",
       "      <th>Voltage</th>\n",
       "      <th>Global_intensity</th>\n",
       "      <th>Sub_metering_1</th>\n",
       "      <th>Sub_metering_2</th>\n",
       "      <th>Sub_metering_3</th>\n",
       "    </tr>\n",
       "  </thead>\n",
       "  <tbody>\n",
       "    <tr>\n",
       "      <th>0</th>\n",
       "      <td>16/12/2006</td>\n",
       "      <td>17:24:00</td>\n",
       "      <td>4.216</td>\n",
       "      <td>0.418</td>\n",
       "      <td>234.840</td>\n",
       "      <td>18.400</td>\n",
       "      <td>0.000</td>\n",
       "      <td>1.000</td>\n",
       "      <td>17.0</td>\n",
       "    </tr>\n",
       "    <tr>\n",
       "      <th>1</th>\n",
       "      <td>16/12/2006</td>\n",
       "      <td>17:25:00</td>\n",
       "      <td>5.360</td>\n",
       "      <td>0.436</td>\n",
       "      <td>233.630</td>\n",
       "      <td>23.000</td>\n",
       "      <td>0.000</td>\n",
       "      <td>1.000</td>\n",
       "      <td>16.0</td>\n",
       "    </tr>\n",
       "    <tr>\n",
       "      <th>2</th>\n",
       "      <td>16/12/2006</td>\n",
       "      <td>17:26:00</td>\n",
       "      <td>5.374</td>\n",
       "      <td>0.498</td>\n",
       "      <td>233.290</td>\n",
       "      <td>23.000</td>\n",
       "      <td>0.000</td>\n",
       "      <td>2.000</td>\n",
       "      <td>17.0</td>\n",
       "    </tr>\n",
       "    <tr>\n",
       "      <th>3</th>\n",
       "      <td>16/12/2006</td>\n",
       "      <td>17:27:00</td>\n",
       "      <td>5.388</td>\n",
       "      <td>0.502</td>\n",
       "      <td>233.740</td>\n",
       "      <td>23.000</td>\n",
       "      <td>0.000</td>\n",
       "      <td>1.000</td>\n",
       "      <td>17.0</td>\n",
       "    </tr>\n",
       "    <tr>\n",
       "      <th>4</th>\n",
       "      <td>16/12/2006</td>\n",
       "      <td>17:28:00</td>\n",
       "      <td>3.666</td>\n",
       "      <td>0.528</td>\n",
       "      <td>235.680</td>\n",
       "      <td>15.800</td>\n",
       "      <td>0.000</td>\n",
       "      <td>1.000</td>\n",
       "      <td>17.0</td>\n",
       "    </tr>\n",
       "    <tr>\n",
       "      <th>...</th>\n",
       "      <td>...</td>\n",
       "      <td>...</td>\n",
       "      <td>...</td>\n",
       "      <td>...</td>\n",
       "      <td>...</td>\n",
       "      <td>...</td>\n",
       "      <td>...</td>\n",
       "      <td>...</td>\n",
       "      <td>...</td>\n",
       "    </tr>\n",
       "    <tr>\n",
       "      <th>2075254</th>\n",
       "      <td>26/11/2010</td>\n",
       "      <td>20:58:00</td>\n",
       "      <td>0.946</td>\n",
       "      <td>0</td>\n",
       "      <td>240.43</td>\n",
       "      <td>4</td>\n",
       "      <td>0</td>\n",
       "      <td>0</td>\n",
       "      <td>0.0</td>\n",
       "    </tr>\n",
       "    <tr>\n",
       "      <th>2075255</th>\n",
       "      <td>26/11/2010</td>\n",
       "      <td>20:59:00</td>\n",
       "      <td>0.944</td>\n",
       "      <td>0</td>\n",
       "      <td>240</td>\n",
       "      <td>4</td>\n",
       "      <td>0</td>\n",
       "      <td>0</td>\n",
       "      <td>0.0</td>\n",
       "    </tr>\n",
       "    <tr>\n",
       "      <th>2075256</th>\n",
       "      <td>26/11/2010</td>\n",
       "      <td>21:00:00</td>\n",
       "      <td>0.938</td>\n",
       "      <td>0</td>\n",
       "      <td>239.82</td>\n",
       "      <td>3.8</td>\n",
       "      <td>0</td>\n",
       "      <td>0</td>\n",
       "      <td>0.0</td>\n",
       "    </tr>\n",
       "    <tr>\n",
       "      <th>2075257</th>\n",
       "      <td>26/11/2010</td>\n",
       "      <td>21:01:00</td>\n",
       "      <td>0.934</td>\n",
       "      <td>0</td>\n",
       "      <td>239.7</td>\n",
       "      <td>3.8</td>\n",
       "      <td>0</td>\n",
       "      <td>0</td>\n",
       "      <td>0.0</td>\n",
       "    </tr>\n",
       "    <tr>\n",
       "      <th>2075258</th>\n",
       "      <td>26/11/2010</td>\n",
       "      <td>21:02:00</td>\n",
       "      <td>0.932</td>\n",
       "      <td>0</td>\n",
       "      <td>239.55</td>\n",
       "      <td>3.8</td>\n",
       "      <td>0</td>\n",
       "      <td>0</td>\n",
       "      <td>0.0</td>\n",
       "    </tr>\n",
       "  </tbody>\n",
       "</table>\n",
       "<p>2075259 rows × 9 columns</p>\n",
       "</div>"
      ],
      "text/plain": [
       "               Date      Time Global_active_power Global_reactive_power  \\\n",
       "0        16/12/2006  17:24:00               4.216                 0.418   \n",
       "1        16/12/2006  17:25:00               5.360                 0.436   \n",
       "2        16/12/2006  17:26:00               5.374                 0.498   \n",
       "3        16/12/2006  17:27:00               5.388                 0.502   \n",
       "4        16/12/2006  17:28:00               3.666                 0.528   \n",
       "...             ...       ...                 ...                   ...   \n",
       "2075254  26/11/2010  20:58:00               0.946                     0   \n",
       "2075255  26/11/2010  20:59:00               0.944                     0   \n",
       "2075256  26/11/2010  21:00:00               0.938                     0   \n",
       "2075257  26/11/2010  21:01:00               0.934                     0   \n",
       "2075258  26/11/2010  21:02:00               0.932                     0   \n",
       "\n",
       "         Voltage Global_intensity Sub_metering_1 Sub_metering_2  \\\n",
       "0        234.840           18.400          0.000          1.000   \n",
       "1        233.630           23.000          0.000          1.000   \n",
       "2        233.290           23.000          0.000          2.000   \n",
       "3        233.740           23.000          0.000          1.000   \n",
       "4        235.680           15.800          0.000          1.000   \n",
       "...          ...              ...            ...            ...   \n",
       "2075254   240.43                4              0              0   \n",
       "2075255      240                4              0              0   \n",
       "2075256   239.82              3.8              0              0   \n",
       "2075257    239.7              3.8              0              0   \n",
       "2075258   239.55              3.8              0              0   \n",
       "\n",
       "         Sub_metering_3  \n",
       "0                  17.0  \n",
       "1                  16.0  \n",
       "2                  17.0  \n",
       "3                  17.0  \n",
       "4                  17.0  \n",
       "...                 ...  \n",
       "2075254             0.0  \n",
       "2075255             0.0  \n",
       "2075256             0.0  \n",
       "2075257             0.0  \n",
       "2075258             0.0  \n",
       "\n",
       "[2075259 rows x 9 columns]"
      ]
     },
     "execution_count": 4,
     "metadata": {},
     "output_type": "execute_result"
    }
   ],
   "source": [
    "df"
   ]
  },
  {
   "cell_type": "code",
   "execution_count": 5,
   "metadata": {},
   "outputs": [
    {
     "data": {
      "text/plain": [
       "Date                         0\n",
       "Time                         0\n",
       "Global_active_power          0\n",
       "Global_reactive_power        0\n",
       "Voltage                      0\n",
       "Global_intensity             0\n",
       "Sub_metering_1               0\n",
       "Sub_metering_2               0\n",
       "Sub_metering_3           25979\n",
       "dtype: int64"
      ]
     },
     "execution_count": 5,
     "metadata": {},
     "output_type": "execute_result"
    }
   ],
   "source": [
    "df.isnull().sum()"
   ]
  },
  {
   "cell_type": "code",
   "execution_count": 6,
   "metadata": {},
   "outputs": [
    {
     "name": "stdout",
     "output_type": "stream",
     "text": [
      "------------Date-------------\n",
      "Empty DataFrame\n",
      "Columns: [Date, Time, Global_active_power, Global_reactive_power, Voltage, Global_intensity, Sub_metering_1, Sub_metering_2, Sub_metering_3]\n",
      "Index: [] \n",
      "\n",
      "------------Time-------------\n",
      "Empty DataFrame\n",
      "Columns: [Date, Time, Global_active_power, Global_reactive_power, Voltage, Global_intensity, Sub_metering_1, Sub_metering_2, Sub_metering_3]\n",
      "Index: [] \n",
      "\n",
      "------------Global_active_power-------------\n",
      "Empty DataFrame\n",
      "Columns: [Date, Time, Global_active_power, Global_reactive_power, Voltage, Global_intensity, Sub_metering_1, Sub_metering_2, Sub_metering_3]\n",
      "Index: [] \n",
      "\n",
      "------------Global_reactive_power-------------\n",
      "Empty DataFrame\n",
      "Columns: [Date, Time, Global_active_power, Global_reactive_power, Voltage, Global_intensity, Sub_metering_1, Sub_metering_2, Sub_metering_3]\n",
      "Index: [] \n",
      "\n",
      "------------Voltage-------------\n",
      "Empty DataFrame\n",
      "Columns: [Date, Time, Global_active_power, Global_reactive_power, Voltage, Global_intensity, Sub_metering_1, Sub_metering_2, Sub_metering_3]\n",
      "Index: [] \n",
      "\n",
      "------------Global_intensity-------------\n",
      "Empty DataFrame\n",
      "Columns: [Date, Time, Global_active_power, Global_reactive_power, Voltage, Global_intensity, Sub_metering_1, Sub_metering_2, Sub_metering_3]\n",
      "Index: [] \n",
      "\n",
      "------------Sub_metering_1-------------\n",
      "Empty DataFrame\n",
      "Columns: [Date, Time, Global_active_power, Global_reactive_power, Voltage, Global_intensity, Sub_metering_1, Sub_metering_2, Sub_metering_3]\n",
      "Index: [] \n",
      "\n",
      "------------Sub_metering_2-------------\n",
      "Empty DataFrame\n",
      "Columns: [Date, Time, Global_active_power, Global_reactive_power, Voltage, Global_intensity, Sub_metering_1, Sub_metering_2, Sub_metering_3]\n",
      "Index: [] \n",
      "\n",
      "------------Sub_metering_3-------------\n",
      "               Date      Time Global_active_power Global_reactive_power  \\\n",
      "6839     21/12/2006  11:23:00                   ?                     ?   \n",
      "6840     21/12/2006  11:24:00                   ?                     ?   \n",
      "19724    30/12/2006  10:08:00                   ?                     ?   \n",
      "19725    30/12/2006  10:09:00                   ?                     ?   \n",
      "41832     14/1/2007  18:36:00                   ?                     ?   \n",
      "...             ...       ...                 ...                   ...   \n",
      "1990185   28/9/2010  19:09:00                   ?                     ?   \n",
      "1990186   28/9/2010  19:10:00                   ?                     ?   \n",
      "1990187   28/9/2010  19:11:00                   ?                     ?   \n",
      "1990188   28/9/2010  19:12:00                   ?                     ?   \n",
      "2027411  24/10/2010  15:35:00                   ?                     ?   \n",
      "\n",
      "        Voltage Global_intensity Sub_metering_1 Sub_metering_2  Sub_metering_3  \n",
      "6839          ?                ?              ?              ?             NaN  \n",
      "6840          ?                ?              ?              ?             NaN  \n",
      "19724         ?                ?              ?              ?             NaN  \n",
      "19725         ?                ?              ?              ?             NaN  \n",
      "41832         ?                ?              ?              ?             NaN  \n",
      "...         ...              ...            ...            ...             ...  \n",
      "1990185       ?                ?              ?              ?             NaN  \n",
      "1990186       ?                ?              ?              ?             NaN  \n",
      "1990187       ?                ?              ?              ?             NaN  \n",
      "1990188       ?                ?              ?              ?             NaN  \n",
      "2027411       ?                ?              ?              ?             NaN  \n",
      "\n",
      "[25979 rows x 9 columns] \n",
      "\n"
     ]
    }
   ],
   "source": [
    "for col in df.columns:\n",
    "    bools = pd.isnull(df[col])\n",
    "    print(f'------------{col}-------------')\n",
    "    print(df[bools], '\\n')"
   ]
  },
  {
   "cell_type": "code",
   "execution_count": 7,
   "metadata": {},
   "outputs": [],
   "source": [
    "df = df.dropna()"
   ]
  },
  {
   "cell_type": "code",
   "execution_count": 8,
   "metadata": {},
   "outputs": [
    {
     "data": {
      "text/html": [
       "<div>\n",
       "<style scoped>\n",
       "    .dataframe tbody tr th:only-of-type {\n",
       "        vertical-align: middle;\n",
       "    }\n",
       "\n",
       "    .dataframe tbody tr th {\n",
       "        vertical-align: top;\n",
       "    }\n",
       "\n",
       "    .dataframe thead th {\n",
       "        text-align: right;\n",
       "    }\n",
       "</style>\n",
       "<table border=\"1\" class=\"dataframe\">\n",
       "  <thead>\n",
       "    <tr style=\"text-align: right;\">\n",
       "      <th></th>\n",
       "      <th>Date</th>\n",
       "      <th>Time</th>\n",
       "      <th>Global_active_power</th>\n",
       "      <th>Global_reactive_power</th>\n",
       "      <th>Voltage</th>\n",
       "      <th>Global_intensity</th>\n",
       "      <th>Sub_metering_1</th>\n",
       "      <th>Sub_metering_2</th>\n",
       "      <th>Sub_metering_3</th>\n",
       "    </tr>\n",
       "  </thead>\n",
       "  <tbody>\n",
       "  </tbody>\n",
       "</table>\n",
       "</div>"
      ],
      "text/plain": [
       "Empty DataFrame\n",
       "Columns: [Date, Time, Global_active_power, Global_reactive_power, Voltage, Global_intensity, Sub_metering_1, Sub_metering_2, Sub_metering_3]\n",
       "Index: []"
      ]
     },
     "execution_count": 8,
     "metadata": {},
     "output_type": "execute_result"
    }
   ],
   "source": [
    "df.loc[df['Sub_metering_2'] == '?']"
   ]
  },
  {
   "cell_type": "code",
   "execution_count": 9,
   "metadata": {},
   "outputs": [
    {
     "data": {
      "text/plain": [
       "Date                      object\n",
       "Time                      object\n",
       "Global_active_power       object\n",
       "Global_reactive_power     object\n",
       "Voltage                   object\n",
       "Global_intensity          object\n",
       "Sub_metering_1            object\n",
       "Sub_metering_2            object\n",
       "Sub_metering_3           float64\n",
       "dtype: object"
      ]
     },
     "execution_count": 9,
     "metadata": {},
     "output_type": "execute_result"
    }
   ],
   "source": [
    "df.dtypes"
   ]
  },
  {
   "cell_type": "code",
   "execution_count": 10,
   "metadata": {},
   "outputs": [
    {
     "name": "stderr",
     "output_type": "stream",
     "text": [
      "<ipython-input-10-a0c15abf2a73>:4: SettingWithCopyWarning: \n",
      "A value is trying to be set on a copy of a slice from a DataFrame.\n",
      "Try using .loc[row_indexer,col_indexer] = value instead\n",
      "\n",
      "See the caveats in the documentation: https://pandas.pydata.org/pandas-docs/stable/user_guide/indexing.html#returning-a-view-versus-a-copy\n",
      "  df[col] = pd.to_numeric(df[col])\n"
     ]
    }
   ],
   "source": [
    "to_numeric_list = ['Global_active_power', 'Sub_metering_1', 'Sub_metering_2', 'Sub_metering_3']\n",
    "\n",
    "for col in to_numeric_list:\n",
    "    df[col] = pd.to_numeric(df[col])"
   ]
  },
  {
   "cell_type": "code",
   "execution_count": 11,
   "metadata": {},
   "outputs": [
    {
     "name": "stderr",
     "output_type": "stream",
     "text": [
      "<ipython-input-11-08dd46ef2204>:1: SettingWithCopyWarning: \n",
      "A value is trying to be set on a copy of a slice from a DataFrame.\n",
      "Try using .loc[row_indexer,col_indexer] = value instead\n",
      "\n",
      "See the caveats in the documentation: https://pandas.pydata.org/pandas-docs/stable/user_guide/indexing.html#returning-a-view-versus-a-copy\n",
      "  df['Active_energy'] = df.apply(lambda row: row['Global_active_power']*1000/60 - row['Sub_metering_1'] - row['Sub_metering_2'] - row['Sub_metering_3'], axis=1)\n"
     ]
    }
   ],
   "source": [
    "df['Active_energy'] = df.apply(lambda row: row['Global_active_power']*1000/60 - row['Sub_metering_1'] - row['Sub_metering_2'] - row['Sub_metering_3'], axis=1)"
   ]
  },
  {
   "cell_type": "code",
   "execution_count": 12,
   "metadata": {},
   "outputs": [
    {
     "name": "stderr",
     "output_type": "stream",
     "text": [
      "<ipython-input-12-145aba5aead7>:1: SettingWithCopyWarning: \n",
      "A value is trying to be set on a copy of a slice from a DataFrame.\n",
      "Try using .loc[row_indexer,col_indexer] = value instead\n",
      "\n",
      "See the caveats in the documentation: https://pandas.pydata.org/pandas-docs/stable/user_guide/indexing.html#returning-a-view-versus-a-copy\n",
      "  df['datetime'] = df['Date'] + ' ' + df['Time']\n"
     ]
    }
   ],
   "source": [
    "df['datetime'] = df['Date'] + ' ' + df['Time']"
   ]
  },
  {
   "cell_type": "code",
   "execution_count": 13,
   "metadata": {},
   "outputs": [],
   "source": [
    "df = df.drop(columns = ['Date', 'Time'])"
   ]
  },
  {
   "cell_type": "code",
   "execution_count": 14,
   "metadata": {},
   "outputs": [
    {
     "data": {
      "text/plain": [
       "<bound method NDFrame.head of          Global_active_power Global_reactive_power  Voltage Global_intensity  \\\n",
       "0                      4.216                 0.418  234.840           18.400   \n",
       "1                      5.360                 0.436  233.630           23.000   \n",
       "2                      5.374                 0.498  233.290           23.000   \n",
       "3                      5.388                 0.502  233.740           23.000   \n",
       "4                      3.666                 0.528  235.680           15.800   \n",
       "...                      ...                   ...      ...              ...   \n",
       "2075254                0.946                     0   240.43                4   \n",
       "2075255                0.944                     0      240                4   \n",
       "2075256                0.938                     0   239.82              3.8   \n",
       "2075257                0.934                     0    239.7              3.8   \n",
       "2075258                0.932                     0   239.55              3.8   \n",
       "\n",
       "         Sub_metering_1  Sub_metering_2  Sub_metering_3  Active_energy  \\\n",
       "0                   0.0             1.0            17.0      52.266667   \n",
       "1                   0.0             1.0            16.0      72.333333   \n",
       "2                   0.0             2.0            17.0      70.566667   \n",
       "3                   0.0             1.0            17.0      71.800000   \n",
       "4                   0.0             1.0            17.0      43.100000   \n",
       "...                 ...             ...             ...            ...   \n",
       "2075254             0.0             0.0             0.0      15.766667   \n",
       "2075255             0.0             0.0             0.0      15.733333   \n",
       "2075256             0.0             0.0             0.0      15.633333   \n",
       "2075257             0.0             0.0             0.0      15.566667   \n",
       "2075258             0.0             0.0             0.0      15.533333   \n",
       "\n",
       "                    datetime  \n",
       "0        16/12/2006 17:24:00  \n",
       "1        16/12/2006 17:25:00  \n",
       "2        16/12/2006 17:26:00  \n",
       "3        16/12/2006 17:27:00  \n",
       "4        16/12/2006 17:28:00  \n",
       "...                      ...  \n",
       "2075254  26/11/2010 20:58:00  \n",
       "2075255  26/11/2010 20:59:00  \n",
       "2075256  26/11/2010 21:00:00  \n",
       "2075257  26/11/2010 21:01:00  \n",
       "2075258  26/11/2010 21:02:00  \n",
       "\n",
       "[2049280 rows x 9 columns]>"
      ]
     },
     "execution_count": 14,
     "metadata": {},
     "output_type": "execute_result"
    }
   ],
   "source": [
    "df.head"
   ]
  },
  {
   "cell_type": "code",
   "execution_count": 15,
   "metadata": {},
   "outputs": [
    {
     "data": {
      "text/plain": [
       "Global_active_power      float64\n",
       "Global_reactive_power     object\n",
       "Voltage                   object\n",
       "Global_intensity          object\n",
       "Sub_metering_1           float64\n",
       "Sub_metering_2           float64\n",
       "Sub_metering_3           float64\n",
       "Active_energy            float64\n",
       "datetime                  object\n",
       "dtype: object"
      ]
     },
     "execution_count": 15,
     "metadata": {},
     "output_type": "execute_result"
    }
   ],
   "source": [
    "df.dtypes"
   ]
  },
  {
   "cell_type": "code",
   "execution_count": 16,
   "metadata": {},
   "outputs": [],
   "source": [
    "df = df.rename(columns={\n",
    "    'Global_active_power': 'global:active_power',\n",
    "    'Global_reactive_power': 'global:reactive_power',\n",
    "    'Global_intensity': 'global:intensity',\n",
    "    'Voltage': 'energy:voltage',\n",
    "    'Sub_metering_1': 'energy:sub_1',\n",
    "    'Sub_metering_2': 'energy:sub_2',\n",
    "    'Sub_metering_3': 'energy:sub_3',\n",
    "    'Active_energy': 'energy:active'\n",
    "})"
   ]
  },
  {
   "cell_type": "code",
   "execution_count": 17,
   "metadata": {},
   "outputs": [],
   "source": [
    "new_index = [\n",
    "    'datetime', 'global:active_power', 'global:reactive_power', 'global:intensity',\n",
    "    'energy:voltage', 'energy:sub_1', 'energy:sub_2', 'energy:sub_3', 'energy:active'\n",
    "            ]\n",
    "\n",
    "df = df.reindex(columns=new_index)"
   ]
  },
  {
   "cell_type": "code",
   "execution_count": 18,
   "metadata": {},
   "outputs": [
    {
     "data": {
      "text/plain": [
       "datetime                  object\n",
       "global:active_power      float64\n",
       "global:reactive_power     object\n",
       "global:intensity          object\n",
       "energy:voltage            object\n",
       "energy:sub_1             float64\n",
       "energy:sub_2             float64\n",
       "energy:sub_3             float64\n",
       "energy:active            float64\n",
       "dtype: object"
      ]
     },
     "execution_count": 18,
     "metadata": {},
     "output_type": "execute_result"
    }
   ],
   "source": [
    "df.dtypes"
   ]
  },
  {
   "cell_type": "code",
   "execution_count": 19,
   "metadata": {},
   "outputs": [],
   "source": [
    "df.to_csv('household_cleaned.csv', index=False)"
   ]
  },
  {
   "cell_type": "code",
   "execution_count": 20,
   "metadata": {},
   "outputs": [],
   "source": [
    "# create 'household_test', 'datetime', 'global', 'energy'\n",
    "# scp household_cleaned.csv hadoop@10.3.133.187:~/workshop\n",
    "# hdfs dfs -put household_cleaned.csv /workshop/household_cleaned.csv\n",
    "# sudo /home/hadoop/hbase/bin/hbase org.apache.hadoop.hbase.mapreduce.ImportTsv -Dimporttsv.separator=, -Dimporttsv.columns=\"HBASE_ROW_KEY,global:active_power,global:reactive_power,global:intensity,energy:voltage,energy:sub_1,energy:sub_2,energy:sub_3,energy:active\" household hdfs://localhost:9000/workshop/household_cleaned.csv\n",
    "# get 'household', '16/12/200617:27:00', 'global:active_power'\n",
    "# get 'household', '16/12/200617:27:00', {COLUMN => ['energy:active', 'global:intensity']}\n"
   ]
  },
  {
   "cell_type": "code",
   "execution_count": 21,
   "metadata": {},
   "outputs": [],
   "source": [
    "#   hbase> get 'ns1:t1', 'r1'\n",
    "#   hbase> get 't1', 'r1'\n",
    "#   hbase> get 't1', 'r1', {TIMERANGE => [ts1, ts2]}\n",
    "#   hbase> get 't1', 'r1', {COLUMN => 'c1'}\n",
    "#   hbase> get 't1', 'r1', {COLUMN => ['c1', 'c2', 'c3']}\n",
    "#   hbase> get 't1', 'r1', {COLUMN => 'c1', TIMESTAMP => ts1}\n",
    "#   hbase> get 't1', 'r1', {COLUMN => 'c1', TIMERANGE => [ts1, ts2], VERSIONS => 4}\n",
    "#   hbase> get 't1', 'r1', {COLUMN => 'c1', TIMESTAMP => ts1, VERSIONS => 4}\n",
    "#   hbase> get 't1', 'r1', {FILTER => \"ValueFilter(=, 'binary:abc')\"}\n",
    "#   hbase> get 't1', 'r1', 'c1'\n",
    "#   hbase> get 't1', 'r1', 'c1', 'c2'\n",
    "#   hbase> get 't1', 'r1', ['c1', 'c2']\n",
    "#   hbase> get 't1', 'r1', {COLUMN => 'c1', ATTRIBUTES => {'mykey'=>'myvalue'}}\n",
    "#   hbase> get 't1', 'r1', {COLUMN => 'c1', AUTHORIZATIONS => ['PRIVATE','SECRET']}\n",
    "#   hbase> get 't1', 'r1', {CONSISTENCY => 'TIMELINE'}\n",
    "#   hbase> get 't1', 'r1', {CONSISTENCY => 'TIMELINE', REGION_REPLICA_ID => 1}\n"
   ]
  }
 ],
 "metadata": {
  "kernelspec": {
   "display_name": "Python 3",
   "language": "python",
   "name": "python3"
  },
  "language_info": {
   "codemirror_mode": {
    "name": "ipython",
    "version": 3
   },
   "file_extension": ".py",
   "mimetype": "text/x-python",
   "name": "python",
   "nbconvert_exporter": "python",
   "pygments_lexer": "ipython3",
   "version": "3.8.2"
  }
 },
 "nbformat": 4,
 "nbformat_minor": 2
}
